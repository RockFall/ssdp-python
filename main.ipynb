{
 "cells": [
  {
   "cell_type": "code",
   "execution_count": 11,
   "metadata": {},
   "outputs": [],
   "source": [
    "import pandas as pd\n",
    "from ssdp import SSDP\n",
    "import time"
   ]
  },
  {
   "cell_type": "markdown",
   "metadata": {},
   "source": [
    "### Loading data"
   ]
  },
  {
   "cell_type": "code",
   "execution_count": 3,
   "metadata": {},
   "outputs": [],
   "source": [
    "bases = ['https://raw.githubusercontent.com/tarcisiodpl/ssdp/master/SSDP/pastas/bases/alon-pn-freq-2.CSV']"
   ]
  },
  {
   "cell_type": "code",
   "execution_count": 4,
   "metadata": {},
   "outputs": [],
   "source": [
    "df = pd.read_csv(bases[0])"
   ]
  },
  {
   "cell_type": "markdown",
   "metadata": {},
   "source": [
    "### Using SSDP"
   ]
  },
  {
   "cell_type": "code",
   "execution_count": 13,
   "metadata": {},
   "outputs": [],
   "source": [
    "ssdp = SSDP(target=\"positive\")"
   ]
  },
  {
   "cell_type": "code",
   "execution_count": 5,
   "metadata": {},
   "outputs": [],
   "source": [
    "# Utility func to get the CSV file name\n",
    "getName = lambda s:s.split(\"/\")[-1][:-4]"
   ]
  },
  {
   "cell_type": "code",
   "execution_count": 18,
   "metadata": {},
   "outputs": [
    {
     "ename": "TypeError",
     "evalue": "run() got multiple values for argument 'k'",
     "output_type": "error",
     "traceback": [
      "\u001b[0;31m---------------------------------------------------------------------------\u001b[0m",
      "\u001b[0;31mTypeError\u001b[0m                                 Traceback (most recent call last)",
      "\u001b[1;32m/home/rockfall/dev/ic/ssdp-python/main.ipynb Cell 8\u001b[0m in \u001b[0;36m<cell line: 5>\u001b[0;34m()\u001b[0m\n\u001b[1;32m      <a href='vscode-notebook-cell://wsl%2Bubuntu/home/rockfall/dev/ic/ssdp-python/main.ipynb#W6sdnNjb2RlLXJlbW90ZQ%3D%3D?line=1'>2</a>\u001b[0m start_time \u001b[39m=\u001b[39m time\u001b[39m.\u001b[39mperf_counter_ns()\n\u001b[1;32m      <a href='vscode-notebook-cell://wsl%2Bubuntu/home/rockfall/dev/ic/ssdp-python/main.ipynb#W6sdnNjb2RlLXJlbW90ZQ%3D%3D?line=3'>4</a>\u001b[0m \u001b[39m# --------   Running SSDP   --------\u001b[39;00m\n\u001b[0;32m----> <a href='vscode-notebook-cell://wsl%2Bubuntu/home/rockfall/dev/ic/ssdp-python/main.ipynb#W6sdnNjb2RlLXJlbW90ZQ%3D%3D?line=4'>5</a>\u001b[0m ssdp\u001b[39m.\u001b[39;49mrun(k\u001b[39m=\u001b[39;49m\u001b[39m10\u001b[39;49m, eval_metric\u001b[39m=\u001b[39;49m\u001b[39m\"\u001b[39;49m\u001b[39mQR\u001b[39;49m\u001b[39m\"\u001b[39;49m)\n\u001b[1;32m      <a href='vscode-notebook-cell://wsl%2Bubuntu/home/rockfall/dev/ic/ssdp-python/main.ipynb#W6sdnNjb2RlLXJlbW90ZQ%3D%3D?line=6'>7</a>\u001b[0m end_time \u001b[39m=\u001b[39m time\u001b[39m.\u001b[39mperf_counter_ns()\n\u001b[1;32m      <a href='vscode-notebook-cell://wsl%2Bubuntu/home/rockfall/dev/ic/ssdp-python/main.ipynb#W6sdnNjb2RlLXJlbW90ZQ%3D%3D?line=7'>8</a>\u001b[0m timer_ns \u001b[39m=\u001b[39m end_time \u001b[39m-\u001b[39m start_time\n",
      "\u001b[0;31mTypeError\u001b[0m: run() got multiple values for argument 'k'"
     ]
    }
   ],
   "source": [
    "# -----  Measuring elapsed time  -----\n",
    "start_time = time.perf_counter_ns()\n",
    "\n",
    "# --------   Running SSDP   --------\n",
    "ssdp.run(k=10, eval_metric=\"QR\")\n",
    "\n",
    "end_time = time.perf_counter_ns()\n",
    "timer_ns = end_time - start_time\n",
    "# -----------------------------------\n",
    "print(\"### Base: \" + getName(bases[0]))"
   ]
  }
 ],
 "metadata": {
  "kernelspec": {
   "display_name": "Python 3.8.10 ('env': venv)",
   "language": "python",
   "name": "python3"
  },
  "language_info": {
   "codemirror_mode": {
    "name": "ipython",
    "version": 3
   },
   "file_extension": ".py",
   "mimetype": "text/x-python",
   "name": "python",
   "nbconvert_exporter": "python",
   "pygments_lexer": "ipython3",
   "version": "3.8.10"
  },
  "orig_nbformat": 4,
  "vscode": {
   "interpreter": {
    "hash": "ad6f55706771b31ae9fc45e0596c01d7efd596f60091e6de31c24ecc1d9cd656"
   }
  }
 },
 "nbformat": 4,
 "nbformat_minor": 2
}
