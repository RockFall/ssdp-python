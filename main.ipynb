{
 "cells": [
  {
   "cell_type": "code",
   "execution_count": 1,
   "metadata": {},
   "outputs": [],
   "source": [
    "import pandas as pd\n",
    "from ssdp import SSDP\n",
    "import time"
   ]
  },
  {
   "cell_type": "markdown",
   "metadata": {},
   "source": [
    "### Loading data"
   ]
  },
  {
   "cell_type": "code",
   "execution_count": 2,
   "metadata": {},
   "outputs": [],
   "source": [
    "bases = ['https://raw.githubusercontent.com/tarcisiodpl/ssdp/master/SSDP/pastas/bases/alon-pn-freq-2.CSV']"
   ]
  },
  {
   "cell_type": "code",
   "execution_count": 3,
   "metadata": {},
   "outputs": [],
   "source": [
    "df = pd.read_csv(bases[0])"
   ]
  },
  {
   "cell_type": "markdown",
   "metadata": {},
   "source": [
    "### Setup of SSDP"
   ]
  },
  {
   "cell_type": "code",
   "execution_count": null,
   "metadata": {},
   "outputs": [],
   "source": [
    "    //Parameters of the algorithm\n",
    "    int k = 10; //number of DPs\n",
    "    //String tipoAvaliacao = Avaliador.TIPO_WRACC; //Fitness\n",
    "    String tipoAvaliacao = Avaliador.TIPO_QG; //Fitness\n",
    "    //String tipoAvaliacao = Avaliador.TIPO_SUB; //Fitness\n",
    "    D.valorAlvo = \"p\"; //target value of dataset"
   ]
  },
  {
   "cell_type": "code",
   "execution_count": null,
   "metadata": {},
   "outputs": [],
   "source": [
    "k = 10\n",
    "fitnessF = \"QG\" # or WRACC/\n",
    "target = \"positive\" # or p/negative/n"
   ]
  },
  {
   "cell_type": "code",
   "execution_count": null,
   "metadata": {},
   "outputs": [],
   "source": [
    "ssdp = SSDP(target=\"positive\")"
   ]
  },
  {
   "cell_type": "markdown",
   "metadata": {},
   "source": [
    "### Using SSDP"
   ]
  },
  {
   "cell_type": "code",
   "execution_count": 5,
   "metadata": {},
   "outputs": [],
   "source": [
    "# Utility func to get the CSV file name\n",
    "getName = lambda s:s.split(\"/\")[-1][:-4]"
   ]
  },
  {
   "cell_type": "code",
   "execution_count": 6,
   "metadata": {},
   "outputs": [
    {
     "name": "stdout",
     "output_type": "stream",
     "text": [
      "### Base: alon-pn-freq-2\n"
     ]
    }
   ],
   "source": [
    "# -----  Measuring elapsed time  -----\n",
    "start_time = time.perf_counter_ns()\n",
    "\n",
    "# --------   Running SSDP   --------\n",
    "ssdp.run(k=k, fitnessFunc=fitnessF)\n",
    "\n",
    "end_time = time.perf_counter_ns()\n",
    "timer_ns = end_time - start_time\n",
    "# -----------------------------------\n",
    "print(\"### Base: \" + getName(bases[0]))\n",
    "print(\"Time: \" + timer_ns)\n",
    "print(\"Average size: \" + ssdp.meanSize)\n",
    "print(\"Coverage of all \" + k + \" DPs in relation to D+: \" + ssdp._positiveCoverage*100 + \"%\")\n",
    "print(\"Number of individuals generated: \" + ssdp._individualsCount)\n",
    "print(\"\\n### Top-k DPs:\")\n",
    "ssdp.printRules()"
   ]
  }
 ],
 "metadata": {
  "kernelspec": {
   "display_name": "Python 3.8.10 ('env': venv)",
   "language": "python",
   "name": "python3"
  },
  "language_info": {
   "codemirror_mode": {
    "name": "ipython",
    "version": 3
   },
   "file_extension": ".py",
   "mimetype": "text/x-python",
   "name": "python",
   "nbconvert_exporter": "python",
   "pygments_lexer": "ipython3",
   "version": "3.8.10"
  },
  "orig_nbformat": 4,
  "vscode": {
   "interpreter": {
    "hash": "ad6f55706771b31ae9fc45e0596c01d7efd596f60091e6de31c24ecc1d9cd656"
   }
  }
 },
 "nbformat": 4,
 "nbformat_minor": 2
}
